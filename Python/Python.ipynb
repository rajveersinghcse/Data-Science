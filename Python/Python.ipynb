{
 "cells": [
  {
   "cell_type": "markdown",
   "metadata": {},
   "source": [
    "# Basic Python of Data Science"
   ]
  },
  {
   "cell_type": "markdown",
   "metadata": {},
   "source": [
    "## Print Function: Print function is use to print a text or values at output screen."
   ]
  },
  {
   "cell_type": "code",
   "execution_count": 1,
   "metadata": {},
   "outputs": [
    {
     "name": "stdout",
     "output_type": "stream",
     "text": [
      "Hello World\n"
     ]
    }
   ],
   "source": [
    "print('Hello World')"
   ]
  },
  {
   "cell_type": "markdown",
   "metadata": {},
   "source": [
    "## Variables: Variables are containers for storing data values."
   ]
  },
  {
   "cell_type": "code",
   "execution_count": 2,
   "metadata": {},
   "outputs": [
    {
     "name": "stdout",
     "output_type": "stream",
     "text": [
      "Hello\n",
      "12\n"
     ]
    }
   ],
   "source": [
    "a = 'Hello' # a is a variable\n",
    "b = 12  # b is a variable\n",
    "print(a)\n",
    "print(b)"
   ]
  },
  {
   "cell_type": "markdown",
   "metadata": {},
   "source": [
    "## Arithmetic Operations"
   ]
  },
  {
   "cell_type": "code",
   "execution_count": 3,
   "metadata": {},
   "outputs": [
    {
     "name": "stdout",
     "output_type": "stream",
     "text": [
      "3\n"
     ]
    }
   ],
   "source": [
    "a = 1\n",
    "b = 2\n",
    "print(a+b)"
   ]
  },
  {
   "cell_type": "code",
   "execution_count": 4,
   "metadata": {},
   "outputs": [
    {
     "name": "stdout",
     "output_type": "stream",
     "text": [
      "-1\n"
     ]
    }
   ],
   "source": [
    "a = 1\n",
    "b = 2\n",
    "print(a-b)"
   ]
  },
  {
   "cell_type": "code",
   "execution_count": 5,
   "metadata": {},
   "outputs": [
    {
     "name": "stdout",
     "output_type": "stream",
     "text": [
      "2\n"
     ]
    }
   ],
   "source": [
    "a = 1\n",
    "b = 2\n",
    "print(a*b)"
   ]
  },
  {
   "cell_type": "code",
   "execution_count": 6,
   "metadata": {},
   "outputs": [
    {
     "name": "stdout",
     "output_type": "stream",
     "text": [
      "0.5\n"
     ]
    }
   ],
   "source": [
    "a = 1\n",
    "b = 2\n",
    "print(a/b)"
   ]
  },
  {
   "cell_type": "markdown",
   "metadata": {},
   "source": [
    "## Data Types:"
   ]
  },
  {
   "cell_type": "code",
   "execution_count": 7,
   "metadata": {},
   "outputs": [],
   "source": [
    "# Text Type: \t    str\n",
    "# Numeric Types: \tint, float, complex\n",
    "# Sequence Types: \tlist, tuple, range\n",
    "# Mapping Type: \tdict\n",
    "# Set Types: \t    set, frozenset\n",
    "# Boolean Type: \tbool\n",
    "# Binary Types: \tbytes, bytearray, memoryview\n",
    "# None Type: \t    NoneType"
   ]
  },
  {
   "cell_type": "markdown",
   "metadata": {},
   "source": [
    "### Getting the Data Type"
   ]
  },
  {
   "cell_type": "code",
   "execution_count": 8,
   "metadata": {},
   "outputs": [
    {
     "name": "stdout",
     "output_type": "stream",
     "text": [
      "<class 'int'>\n"
     ]
    }
   ],
   "source": [
    "print(type(a))"
   ]
  },
  {
   "cell_type": "code",
   "execution_count": 9,
   "metadata": {},
   "outputs": [],
   "source": [
    "# Data Structures:\n",
    "# . Lists\n",
    "# . Boolean\n",
    "# . Tuples\n",
    "# . Dictionaries\n",
    "# . Sets\n",
    "# . Strings"
   ]
  },
  {
   "cell_type": "markdown",
   "metadata": {},
   "source": [
    "## Lists:\n",
    "### Lists are used to store multiple items in a single variable.\n",
    "### Lists is mutable."
   ]
  },
  {
   "cell_type": "code",
   "execution_count": 10,
   "metadata": {},
   "outputs": [
    {
     "name": "stdout",
     "output_type": "stream",
     "text": [
      "['apple', 'banana', 'cherry']\n"
     ]
    }
   ],
   "source": [
    "# Creating the list\n",
    "fruits = [\"apple\", \"banana\", \"cherry\"]\n",
    "print(fruits)"
   ]
  },
  {
   "cell_type": "code",
   "execution_count": 11,
   "metadata": {},
   "outputs": [
    {
     "name": "stdout",
     "output_type": "stream",
     "text": [
      "['Hello', 'World', 1, 2, 3.5, -1]\n"
     ]
    }
   ],
   "source": [
    "# list can store different types of data also\n",
    "a = ['Hello','World',1,2,3.5,-1]\n",
    "print(a)"
   ]
  },
  {
   "cell_type": "markdown",
   "metadata": {},
   "source": [
    "### Airthmetic Operations"
   ]
  },
  {
   "cell_type": "code",
   "execution_count": 12,
   "metadata": {},
   "outputs": [
    {
     "data": {
      "text/plain": [
       "10"
      ]
     },
     "execution_count": 12,
     "metadata": {},
     "output_type": "execute_result"
    }
   ],
   "source": [
    "# we can perform airthmetic operations in list\n",
    "l = [1,2,3,4]\n",
    "sum(l)"
   ]
  },
  {
   "cell_type": "markdown",
   "metadata": {},
   "source": [
    "### Adding, deletion and any other operation on list"
   ]
  },
  {
   "cell_type": "code",
   "execution_count": 13,
   "metadata": {},
   "outputs": [
    {
     "name": "stdout",
     "output_type": "stream",
     "text": [
      "['apple', 'banana', 'cherry', 'graps']\n"
     ]
    }
   ],
   "source": [
    "# Adding new item to the list\n",
    "fruits.append('graps')\n",
    "print(fruits)"
   ]
  },
  {
   "cell_type": "code",
   "execution_count": 14,
   "metadata": {},
   "outputs": [
    {
     "name": "stdout",
     "output_type": "stream",
     "text": [
      "['apple', 'banana', 'cherry', 'graps', ['coconut,pear']]\n"
     ]
    }
   ],
   "source": [
    "# If we want to add a multiple item append will convert into nested list\n",
    "fruits.append(['coconut,pear'])\n",
    "print(fruits)"
   ]
  },
  {
   "cell_type": "code",
   "execution_count": 15,
   "metadata": {},
   "outputs": [
    {
     "name": "stdout",
     "output_type": "stream",
     "text": [
      "['apple', 'banana', 'cherry', 'graps']\n"
     ]
    }
   ],
   "source": [
    "# neglect this remove function right now we will see this some time later\n",
    "fruits.remove(['coconut,pear'])\n",
    "print(fruits)"
   ]
  },
  {
   "cell_type": "code",
   "execution_count": 16,
   "metadata": {},
   "outputs": [
    {
     "name": "stdout",
     "output_type": "stream",
     "text": [
      "['apple', 'banana', 'cherry', 'graps', 'coconut,pear']\n"
     ]
    }
   ],
   "source": [
    "# to solve this nested list problem we have extend funtion\n",
    "fruits.extend(['coconut,pear'])\n",
    "print(fruits)"
   ]
  },
  {
   "cell_type": "code",
   "execution_count": 17,
   "metadata": {},
   "outputs": [
    {
     "name": "stdout",
     "output_type": "stream",
     "text": [
      "['apple', 'banana', 'cherry', 'graps', 'coconut,pear', 'apple']\n"
     ]
    }
   ],
   "source": [
    "# List have ability to store duplicate values\n",
    "fruits.append('apple')\n",
    "print(fruits)"
   ]
  },
  {
   "cell_type": "code",
   "execution_count": 18,
   "metadata": {},
   "outputs": [
    {
     "name": "stdout",
     "output_type": "stream",
     "text": [
      "6\n"
     ]
    }
   ],
   "source": [
    "# We can check the length of a list\n",
    "print(len(fruits))"
   ]
  },
  {
   "cell_type": "code",
   "execution_count": 19,
   "metadata": {},
   "outputs": [
    {
     "name": "stdout",
     "output_type": "stream",
     "text": [
      "<class 'list'>\n"
     ]
    }
   ],
   "source": [
    "# We can get the type of the out list\n",
    "print(type(fruits))"
   ]
  },
  {
   "cell_type": "code",
   "execution_count": 20,
   "metadata": {},
   "outputs": [
    {
     "name": "stdout",
     "output_type": "stream",
     "text": [
      "2\n"
     ]
    }
   ],
   "source": [
    "# we can count the particular item\n",
    "print(fruits.count('apple'))"
   ]
  },
  {
   "cell_type": "code",
   "execution_count": 21,
   "metadata": {},
   "outputs": [
    {
     "name": "stdout",
     "output_type": "stream",
     "text": [
      "0\n"
     ]
    }
   ],
   "source": [
    "# we can find the index of the item\n",
    "print(fruits.index('apple'))"
   ]
  },
  {
   "cell_type": "code",
   "execution_count": 22,
   "metadata": {},
   "outputs": [
    {
     "name": "stdout",
     "output_type": "stream",
     "text": [
      "2\n"
     ]
    }
   ],
   "source": [
    "# find the minimum value from the list\n",
    "number = [12,3,15,77,2,11]\n",
    "print(min(number))"
   ]
  },
  {
   "cell_type": "code",
   "execution_count": 23,
   "metadata": {},
   "outputs": [
    {
     "name": "stdout",
     "output_type": "stream",
     "text": [
      "77\n"
     ]
    }
   ],
   "source": [
    "# find the maximum value from the list\n",
    "number = [12,3,15,77,2,11]\n",
    "print(max(number))"
   ]
  },
  {
   "cell_type": "code",
   "execution_count": 24,
   "metadata": {},
   "outputs": [
    {
     "name": "stdout",
     "output_type": "stream",
     "text": [
      "Before : ['apple', 'banana', 'cherry', 'graps', 'coconut,pear', 'apple']\n"
     ]
    },
    {
     "data": {
      "text/plain": [
       "['apple',\n",
       " 'banana',\n",
       " 'cherry',\n",
       " 'graps',\n",
       " 'coconut,pear',\n",
       " 'apple',\n",
       " 'apple',\n",
       " 'banana',\n",
       " 'cherry',\n",
       " 'graps',\n",
       " 'coconut,pear',\n",
       " 'apple']"
      ]
     },
     "execution_count": 24,
     "metadata": {},
     "output_type": "execute_result"
    }
   ],
   "source": [
    "# we can repeat list multiple time\n",
    "print(f\"Before : {fruits}\")\n",
    "fruits*2 # here i repeat the list twice but it did not reflect the original list"
   ]
  },
  {
   "cell_type": "code",
   "execution_count": 25,
   "metadata": {},
   "outputs": [
    {
     "name": "stdout",
     "output_type": "stream",
     "text": [
      "After : ['apple', 'banana', 'cherry', 'graps', 'coconut,pear', 'apple']\n"
     ]
    }
   ],
   "source": [
    "print(f\"After : {fruits}\")"
   ]
  },
  {
   "cell_type": "code",
   "execution_count": 26,
   "metadata": {},
   "outputs": [
    {
     "name": "stdout",
     "output_type": "stream",
     "text": [
      "apple\n",
      "cherry\n"
     ]
    }
   ],
   "source": [
    "# we can access the items form the list\n",
    "print(fruits[0])    #always remember in python indexing starts from the 0\n",
    "print(fruits[2])"
   ]
  },
  {
   "cell_type": "code",
   "execution_count": 27,
   "metadata": {},
   "outputs": [
    {
     "name": "stdout",
     "output_type": "stream",
     "text": [
      "coconut,pear\n"
     ]
    }
   ],
   "source": [
    "# we can do negetive indexing also\n",
    "print(fruits[-2])\n"
   ]
  },
  {
   "cell_type": "markdown",
   "metadata": {},
   "source": [
    "### Slicing"
   ]
  },
  {
   "cell_type": "code",
   "execution_count": 28,
   "metadata": {},
   "outputs": [
    {
     "name": "stdout",
     "output_type": "stream",
     "text": [
      "['cherry', 'graps']\n",
      "\n",
      "['apple', 'banana', 'cherry', 'graps']\n",
      "\n",
      "['cherry', 'graps', 'coconut,pear', 'apple']\n",
      "\n",
      "['apple', 'cherry', 'coconut,pear']\n",
      "\n",
      "['apple', 'coconut,pear', 'graps', 'cherry', 'banana', 'apple']\n"
     ]
    }
   ],
   "source": [
    "# we can perfome the slicing in list\n",
    "# Syntax of slicing   list_name[ start_index : stop_index : step]\n",
    "# here Step mean how much steps you want to insert into the list\n",
    "print(fruits[2:4])\n",
    "print()\n",
    "print(fruits[:4])\n",
    "print()\n",
    "print(fruits[2:])\n",
    "print()\n",
    "print(fruits[::2]) # it will give you entire list with the step of 2\n",
    "print()\n",
    "print(fruits[::-1]) # it will give the reverse of the lits"
   ]
  },
  {
   "cell_type": "code",
   "execution_count": 29,
   "metadata": {},
   "outputs": [
    {
     "name": "stdout",
     "output_type": "stream",
     "text": [
      "Before changes : ['apple', 'banana', 'cherry', 'graps', 'coconut,pear', 'apple']\n",
      "After changes : ['guava', 'banana', 'cherry', 'graps', 'coconut,pear', 'apple']\n"
     ]
    }
   ],
   "source": [
    "# We can change the list item values\n",
    "print(f\"Before changes : {fruits}\")\n",
    "fruits[0]='guava'\n",
    "print(f\"After changes : {fruits}\")"
   ]
  },
  {
   "cell_type": "code",
   "execution_count": 30,
   "metadata": {},
   "outputs": [
    {
     "name": "stdout",
     "output_type": "stream",
     "text": [
      "Before Inserting : ['guava', 'banana', 'cherry', 'graps', 'coconut,pear', 'apple']\n",
      "After changes : ['guava', 'banana', 'wattermelon', 'cherry', 'graps', 'coconut,pear', 'apple']\n"
     ]
    }
   ],
   "source": [
    "# append is use to add new item in list\n",
    "# but There is one more function that is \"Insert\". which is use to adding a item into a specifi index\n",
    "print(f\"Before Inserting : {fruits}\")\n",
    "fruits.insert(2,'wattermelon')   #it will add item at index no. 2\n",
    "print(f\"After changes : {fruits}\")"
   ]
  },
  {
   "cell_type": "code",
   "execution_count": 31,
   "metadata": {},
   "outputs": [
    {
     "name": "stdout",
     "output_type": "stream",
     "text": [
      "Before Delete : ['guava', 'banana', 'wattermelon', 'cherry', 'graps', 'coconut,pear', 'apple']\n",
      "After Delete : ['guava', 'banana', 'cherry', 'graps', 'coconut,pear', 'apple']\n"
     ]
    }
   ],
   "source": [
    "# We can delete the item from the list Using remove\n",
    "print(f\"Before Delete : {fruits}\")\n",
    "fruits.remove('wattermelon')\n",
    "print(f\"After Delete : {fruits}\")"
   ]
  },
  {
   "cell_type": "code",
   "execution_count": 32,
   "metadata": {},
   "outputs": [
    {
     "name": "stdout",
     "output_type": "stream",
     "text": [
      "Before Delete : ['guava', 'banana', 'cherry', 'graps', 'coconut,pear', 'apple']\n",
      "After Delete : ['guava', 'banana', 'cherry', 'graps', 'coconut,pear']\n"
     ]
    }
   ],
   "source": [
    "# We can delete the item from the last\n",
    "print(f\"Before Delete : {fruits}\")\n",
    "fruits.pop()\n",
    "print(f\"After Delete : {fruits}\")"
   ]
  },
  {
   "cell_type": "code",
   "execution_count": 33,
   "metadata": {},
   "outputs": [
    {
     "name": "stdout",
     "output_type": "stream",
     "text": [
      "Before Delete : ['guava', 'banana', 'cherry', 'graps', 'coconut,pear']\n",
      "After Delete : ['guava', 'cherry', 'graps', 'coconut,pear']\n"
     ]
    }
   ],
   "source": [
    "# We can delete the item from the list Using del\n",
    "print(f\"Before Delete : {fruits}\")\n",
    "del fruits[1]\n",
    "print(f\"After Delete : {fruits}\")"
   ]
  },
  {
   "cell_type": "code",
   "execution_count": 34,
   "metadata": {},
   "outputs": [],
   "source": [
    "# Difference between remove, pop and del\n",
    "# Remove is used to remove item form list by passing value in it\n",
    "# pop is used to remove item form last\n",
    "# del is used to remove item form list by passing the index of that value"
   ]
  },
  {
   "cell_type": "code",
   "execution_count": 35,
   "metadata": {},
   "outputs": [
    {
     "name": "stdout",
     "output_type": "stream",
     "text": [
      "Before clearing : ['guava', 'cherry', 'graps', 'coconut,pear']\n",
      "After clearing : []\n"
     ]
    }
   ],
   "source": [
    "# we can clear the entire list also\n",
    "print(f\"Before clearing : {fruits}\")\n",
    "fruits.clear()\n",
    "print(f\"After clearing : {fruits}\")"
   ]
  },
  {
   "cell_type": "markdown",
   "metadata": {},
   "source": [
    "### Sorting: List objects have a sort() method that will sort the list alphanumerically, ascending, by default."
   ]
  },
  {
   "cell_type": "code",
   "execution_count": 36,
   "metadata": {},
   "outputs": [
    {
     "name": "stdout",
     "output_type": "stream",
     "text": [
      "['banana', 'kiwi', 'mango', 'orange', 'pineapple']\n"
     ]
    }
   ],
   "source": [
    "# alphabetically\n",
    "fruits = [\"orange\", \"mango\", \"kiwi\", \"pineapple\", \"banana\"]\n",
    "fruits.sort()\n",
    "print(fruits)"
   ]
  },
  {
   "cell_type": "code",
   "execution_count": 37,
   "metadata": {},
   "outputs": [
    {
     "name": "stdout",
     "output_type": "stream",
     "text": [
      "[-100, -1, 1, 5, 12, 30, 99, 100]\n"
     ]
    }
   ],
   "source": [
    "# Numerically\n",
    "number = [12, 100,1, 5, 99, -1,30,-100]\n",
    "number.sort()\n",
    "print(number)"
   ]
  },
  {
   "cell_type": "code",
   "execution_count": 38,
   "metadata": {},
   "outputs": [
    {
     "name": "stdout",
     "output_type": "stream",
     "text": [
      "['pineapple', 'orange', 'mango', 'kiwi', 'banana']\n"
     ]
    }
   ],
   "source": [
    "# alphabetically but decending order\n",
    "fruits = [\"orange\", \"mango\", \"kiwi\", \"pineapple\", \"banana\"]\n",
    "fruits.sort(reverse=True)\n",
    "print(fruits)"
   ]
  },
  {
   "cell_type": "code",
   "execution_count": 39,
   "metadata": {},
   "outputs": [
    {
     "name": "stdout",
     "output_type": "stream",
     "text": [
      "[100, 99, 30, 12, 5, 1, -1, -100]\n"
     ]
    }
   ],
   "source": [
    "# Numerically\n",
    "number = [12, 100,1, 5, 99, -1,30,-100]\n",
    "number.sort(reverse=True)\n",
    "print(number)"
   ]
  },
  {
   "cell_type": "code",
   "execution_count": 40,
   "metadata": {},
   "outputs": [
    {
     "name": "stdout",
     "output_type": "stream",
     "text": [
      "['cherry', 'Kiwi', 'Orange', 'banana']\n"
     ]
    }
   ],
   "source": [
    "# we can reverse the list by using the reverse function\n",
    "fruits = [\"banana\", \"Orange\", \"Kiwi\", \"cherry\"]\n",
    "fruits.reverse()\n",
    "print(fruits)"
   ]
  },
  {
   "cell_type": "markdown",
   "metadata": {},
   "source": [
    "### Copy: by using this functin we can copy the entire list into another list"
   ]
  },
  {
   "cell_type": "code",
   "execution_count": 41,
   "metadata": {},
   "outputs": [
    {
     "name": "stdout",
     "output_type": "stream",
     "text": [
      "['banana', 'Orange', 'Kiwi', 'cherry']\n"
     ]
    }
   ],
   "source": [
    "fruits = [\"banana\", \"Orange\", \"Kiwi\", \"cherry\"]\n",
    "new_fruits = fruits.copy()\n",
    "print(new_fruits)"
   ]
  },
  {
   "cell_type": "markdown",
   "metadata": {},
   "source": [
    "### Join Lists: we can marge two or multiple lists together"
   ]
  },
  {
   "cell_type": "code",
   "execution_count": 42,
   "metadata": {},
   "outputs": [
    {
     "name": "stdout",
     "output_type": "stream",
     "text": [
      "['a', 'b', 'c', 1, 2, 3, 4]\n"
     ]
    }
   ],
   "source": [
    "list1 = ['a','b','c']\n",
    "list2 = [1,2,3,4]\n",
    "list = list1+list2\n",
    "print(list)"
   ]
  },
  {
   "cell_type": "code",
   "execution_count": null,
   "metadata": {},
   "outputs": [],
   "source": []
  },
  {
   "cell_type": "markdown",
   "metadata": {},
   "source": [
    "## Boolean:\n",
    "### Booleans represent one of two values: True or False"
   ]
  },
  {
   "cell_type": "code",
   "execution_count": 43,
   "metadata": {},
   "outputs": [
    {
     "name": "stdout",
     "output_type": "stream",
     "text": [
      "True False\n"
     ]
    }
   ],
   "source": [
    "print(True, False)"
   ]
  },
  {
   "cell_type": "code",
   "execution_count": 44,
   "metadata": {},
   "outputs": [
    {
     "name": "stdout",
     "output_type": "stream",
     "text": [
      "<class 'bool'>\n"
     ]
    }
   ],
   "source": [
    "print(type(True))"
   ]
  },
  {
   "cell_type": "code",
   "execution_count": 45,
   "metadata": {},
   "outputs": [
    {
     "name": "stdout",
     "output_type": "stream",
     "text": [
      "False\n",
      "False\n",
      "True\n",
      "False\n",
      "False\n",
      "False\n",
      "True\n",
      "False\n",
      "True\n",
      "False\n"
     ]
    }
   ],
   "source": [
    "str = \"Hello World\"\n",
    "print(str.isalnum())    #check if all charcter are number\n",
    "print(str.isalpha())    #check if all charcter are alphabetic\n",
    "print(str.istitle())    #check if string contains digit\n",
    "print(str.isupper())    #check if string contains words\n",
    "print(str.islower())    #check if string contains upper case\n",
    "print(str.isspace())    #check if string contains lower case\n",
    "print(str.endswith('d'))    #check if string endswith 'd' remember python is case sensitive language\n",
    "print(str.endswith('D'))    #check if string endswith 'D'\n",
    "print(str.startswith('H'))    #check if string startswith 'H'\n",
    "print(str.startswith('h'))    #check if string startswith 'h'"
   ]
  },
  {
   "cell_type": "markdown",
   "metadata": {},
   "source": [
    "#### Boolean and Logical Operation"
   ]
  },
  {
   "cell_type": "code",
   "execution_count": 46,
   "metadata": {},
   "outputs": [
    {
     "name": "stdout",
     "output_type": "stream",
     "text": [
      "True and False with AND operator\n",
      "True\n",
      "False\n",
      "False\n",
      "False\n",
      "\n",
      "True and False with OR operator\n",
      "True\n",
      "True\n",
      "True\n",
      "False\n"
     ]
    }
   ],
   "source": [
    "print(\"True and False with AND operator\")\n",
    "print(True and True)\n",
    "print(True and False)\n",
    "print(False and True)\n",
    "print(False and False)\n",
    "print()\n",
    "print(\"True and False with OR operator\")\n",
    "print(True or True)\n",
    "print(True or False)\n",
    "print(False or True)\n",
    "print(False or False)"
   ]
  },
  {
   "cell_type": "code",
   "execution_count": null,
   "metadata": {},
   "outputs": [],
   "source": []
  },
  {
   "cell_type": "markdown",
   "metadata": {},
   "source": [
    "## Tuple: Tuples are used to store multiple items in a single variable.\n",
    "#### Tuple is ordered and unchangeable."
   ]
  },
  {
   "cell_type": "code",
   "execution_count": 5,
   "metadata": {},
   "outputs": [
    {
     "name": "stdout",
     "output_type": "stream",
     "text": [
      "('apple', 'banana', 'cherry')\n"
     ]
    }
   ],
   "source": [
    "#creating the tuple\n",
    "fruits = (\"apple\", \"banana\", \"cherry\")\n",
    "print(fruits)"
   ]
  },
  {
   "cell_type": "code",
   "execution_count": 6,
   "metadata": {},
   "outputs": [
    {
     "name": "stdout",
     "output_type": "stream",
     "text": [
      "('apple', 'banana', 'cherry', 'apple')\n"
     ]
    }
   ],
   "source": [
    "# we can add duplicate values in tuple\n",
    "fruits = (\"apple\", \"banana\", \"cherry\",\"apple\")\n",
    "print(fruits)"
   ]
  },
  {
   "cell_type": "code",
   "execution_count": 15,
   "metadata": {},
   "outputs": [
    {
     "name": "stdout",
     "output_type": "stream",
     "text": [
      "5\n"
     ]
    }
   ],
   "source": [
    "# we can find the length of tuple\n",
    "fruits = (\"apple\", \"banana\", \"cherry\",\"kiwi\",\"apple\")\n",
    "print(len(fruits))"
   ]
  },
  {
   "cell_type": "code",
   "execution_count": 16,
   "metadata": {},
   "outputs": [
    {
     "name": "stdout",
     "output_type": "stream",
     "text": [
      "<class 'tuple'>\n"
     ]
    }
   ],
   "source": [
    "# get the type\n",
    "print(type(fruits))"
   ]
  },
  {
   "cell_type": "code",
   "execution_count": 17,
   "metadata": {},
   "outputs": [
    {
     "name": "stdout",
     "output_type": "stream",
     "text": [
      "2\n"
     ]
    }
   ],
   "source": [
    "# we can count in tuple\n",
    "print(fruits.count('apple'))"
   ]
  },
  {
   "cell_type": "code",
   "execution_count": 18,
   "metadata": {},
   "outputs": [
    {
     "name": "stdout",
     "output_type": "stream",
     "text": [
      "3\n"
     ]
    }
   ],
   "source": [
    "# we can get the index of the item\n",
    "print(fruits.index('kiwi'))"
   ]
  },
  {
   "cell_type": "code",
   "execution_count": 12,
   "metadata": {},
   "outputs": [
    {
     "name": "stdout",
     "output_type": "stream",
     "text": [
      "apple\n",
      "\n",
      "kiwi\n",
      "\n",
      "('cherry', 'kiwi')\n"
     ]
    }
   ],
   "source": [
    "# accessing the item of tuple\n",
    "print(fruits[0])\n",
    "print()\n",
    "print(fruits[-1])\n",
    "print()\n",
    "print(fruits[2:4])"
   ]
  },
  {
   "cell_type": "code",
   "execution_count": 13,
   "metadata": {},
   "outputs": [
    {
     "name": "stdout",
     "output_type": "stream",
     "text": [
      "('a', 'b', 'c', 1, 2, 3)\n"
     ]
    }
   ],
   "source": [
    "# we can join two or multiple tuples\n",
    "t1 = (\"a\", \"b\" , \"c\")\n",
    "t2 = (1, 2, 3)\n",
    "t3 = t1 + t2\n",
    "print(t3)"
   ]
  },
  {
   "cell_type": "code",
   "execution_count": null,
   "metadata": {},
   "outputs": [],
   "source": []
  },
  {
   "cell_type": "markdown",
   "metadata": {},
   "source": [
    "## Dictionaries: Dictionaries is a collection of Keys and Values. Here key work as as index or the specific value. "
   ]
  },
  {
   "cell_type": "code",
   "execution_count": 73,
   "metadata": {},
   "outputs": [
    {
     "name": "stdout",
     "output_type": "stream",
     "text": [
      "{'fruit': 'apple', 'veg': 'patato', 'non-veg': 'chicken'}\n"
     ]
    }
   ],
   "source": [
    "# creating the dictionary\n",
    "dic = {'fruit':'apple', 'veg':'patato', 'non-veg':'chicken'}     #here 'fruit, veg, non-veg' work as a keys and 'apple, patato, chicken' work as a values\n",
    "print(dic)\n"
   ]
  },
  {
   "cell_type": "code",
   "execution_count": 74,
   "metadata": {},
   "outputs": [
    {
     "name": "stdout",
     "output_type": "stream",
     "text": [
      "<class 'dict'>\n"
     ]
    }
   ],
   "source": [
    "#geting the type\n",
    "print(type(dic))"
   ]
  },
  {
   "cell_type": "code",
   "execution_count": 75,
   "metadata": {},
   "outputs": [
    {
     "name": "stdout",
     "output_type": "stream",
     "text": [
      "patato\n",
      "\n",
      "chicken\n"
     ]
    }
   ],
   "source": [
    "# accessing the value by using key\n",
    "print(dic['veg'])\n",
    "print()\n",
    "print(dic['non-veg'])"
   ]
  },
  {
   "cell_type": "code",
   "execution_count": 76,
   "metadata": {},
   "outputs": [],
   "source": [
    "# limitations:\n",
    "# Dictionaries is ordered but in onlder(3.6-) it is unordered\n",
    "# Duplication is not allowed"
   ]
  },
  {
   "cell_type": "code",
   "execution_count": 77,
   "metadata": {},
   "outputs": [
    {
     "name": "stdout",
     "output_type": "stream",
     "text": [
      "Before change : {'fruit': 'apple', 'veg': 'patato', 'non-veg': 'chicken'}\n",
      "After change : {'fruit': 'kiwi', 'veg': 'patato', 'non-veg': 'chicken'}\n"
     ]
    }
   ],
   "source": [
    "# we can change the item of the keys in dictionary\n",
    "dic = {'fruit':'apple', 'veg':'patato', 'non-veg':'chicken'}\n",
    "print(f\"Before change : {dic}\")\n",
    "dic['fruit']='kiwi'\n",
    "print(f\"After change : {dic}\")"
   ]
  },
  {
   "cell_type": "code",
   "execution_count": 82,
   "metadata": {},
   "outputs": [
    {
     "name": "stdout",
     "output_type": "stream",
     "text": [
      "{'fruit': 'apple', 'veg': 'patato', 'non-veg': 'chicken', 'sea': 'fish'}\n"
     ]
    }
   ],
   "source": [
    "# we can Update the Dictionary by using the update() method will update the dictionary with the items from the given argument.\n",
    "dic = {'fruit':'apple', 'veg':'patato', 'non-veg':'chicken'}\n",
    "dic.update({'sea':'fish'})\n",
    "print(dic)"
   ]
  },
  {
   "cell_type": "code",
   "execution_count": 78,
   "metadata": {},
   "outputs": [
    {
     "name": "stdout",
     "output_type": "stream",
     "text": [
      "3\n"
     ]
    }
   ],
   "source": [
    "# get the length of dic.\n",
    "print(len(dic))"
   ]
  },
  {
   "cell_type": "code",
   "execution_count": 79,
   "metadata": {},
   "outputs": [
    {
     "name": "stdout",
     "output_type": "stream",
     "text": [
      "dict_keys(['fruit', 'veg', 'non-veg'])\n"
     ]
    }
   ],
   "source": [
    "# we can get the all keys that are store in the dic\n",
    "print(dic.keys())"
   ]
  },
  {
   "cell_type": "code",
   "execution_count": 80,
   "metadata": {},
   "outputs": [
    {
     "name": "stdout",
     "output_type": "stream",
     "text": [
      "dict_values(['kiwi', 'patato', 'chicken'])\n"
     ]
    }
   ],
   "source": [
    "# we can get the all values that are store in the dic\n",
    "print(dic.values())"
   ]
  },
  {
   "cell_type": "code",
   "execution_count": 81,
   "metadata": {},
   "outputs": [
    {
     "name": "stdout",
     "output_type": "stream",
     "text": [
      "dict_items([('fruit', 'kiwi'), ('veg', 'patato'), ('non-veg', 'chicken')])\n"
     ]
    }
   ],
   "source": [
    "# we can use the items() method that will return each item in a dictionary, as tuples in a list.\n",
    "x = dic.items()\n",
    "print(x)"
   ]
  },
  {
   "cell_type": "code",
   "execution_count": 1,
   "metadata": {},
   "outputs": [
    {
     "name": "stdout",
     "output_type": "stream",
     "text": [
      "{'fruit': 'apple', 'veg': 'patato', 'non-veg': 'chicken'}\n"
     ]
    }
   ],
   "source": [
    "# copy a dictionary using copy()\n",
    "dic = {'fruit':'apple', 'veg':'patato', 'non-veg':'chicken'}\n",
    "new_dic = dic.copy()\n",
    "print(new_dic)"
   ]
  },
  {
   "cell_type": "code",
   "execution_count": 2,
   "metadata": {},
   "outputs": [
    {
     "name": "stdout",
     "output_type": "stream",
     "text": [
      "{'fruit': 'apple', 'veg': 'patato', 'non-veg': 'chicken'}\n"
     ]
    }
   ],
   "source": [
    "# copy a dictionary using dict()\n",
    "dic = {'fruit':'apple', 'veg':'patato', 'non-veg':'chicken'}\n",
    "new_dic = dict(dic)\n",
    "print(new_dic)"
   ]
  },
  {
   "cell_type": "code",
   "execution_count": 3,
   "metadata": {},
   "outputs": [
    {
     "name": "stdout",
     "output_type": "stream",
     "text": [
      "{'child1': {'name': 'Emil', 'year': 2004}, 'child2': {'name': 'Tobias', 'year': 2007}, 'child3': {'name': 'Linus', 'year': 2011}}\n"
     ]
    }
   ],
   "source": [
    "#nested dictionary \n",
    "myfamily = {\"child1\" : {\"name\" : \"Emil\",\"year\" : 2004},\"child2\" : {\"name\" : \"Tobias\",\"year\" : 2007},\"child3\" : {\"name\" : \"Linus\",\"year\" : 2011}} \n",
    "print(myfamily)"
   ]
  },
  {
   "cell_type": "code",
   "execution_count": null,
   "metadata": {},
   "outputs": [],
   "source": []
  },
  {
   "cell_type": "markdown",
   "metadata": {},
   "source": [
    "## Sets: Sets are used to store multiple items in a single variable.\n",
    "#### But there are some limitations with the sets."
   ]
  },
  {
   "cell_type": "code",
   "execution_count": 47,
   "metadata": {},
   "outputs": [
    {
     "name": "stdout",
     "output_type": "stream",
     "text": [
      "{'apple', 'banana', 'cherry'}\n"
     ]
    }
   ],
   "source": [
    "#creating the set\n",
    "fruits = {\"apple\", \"banana\", \"cherry\"}\n",
    "print(fruits)"
   ]
  },
  {
   "cell_type": "code",
   "execution_count": 48,
   "metadata": {},
   "outputs": [
    {
     "name": "stdout",
     "output_type": "stream",
     "text": [
      "<class 'set'>\n"
     ]
    }
   ],
   "source": [
    "#get type of the data\n",
    "print(type(fruits))"
   ]
  },
  {
   "cell_type": "code",
   "execution_count": 49,
   "metadata": {},
   "outputs": [],
   "source": [
    "# Set Limitations:\n",
    "# Unorderd: Set are unordered. Indexing does not work on sets.\n",
    "# Unchangeable: Set is unchangeable. You can't change the value inside the sets.\n",
    "# Sets can not store duplicate values."
   ]
  },
  {
   "cell_type": "code",
   "execution_count": 50,
   "metadata": {},
   "outputs": [
    {
     "name": "stdout",
     "output_type": "stream",
     "text": [
      "3\n"
     ]
    }
   ],
   "source": [
    "#get the length of set\n",
    "print(len(fruits))"
   ]
  },
  {
   "cell_type": "code",
   "execution_count": 51,
   "metadata": {},
   "outputs": [
    {
     "name": "stdout",
     "output_type": "stream",
     "text": [
      "{'apple', 'kiwi', 'banana', 'cherry'}\n"
     ]
    }
   ],
   "source": [
    "#we can add items in sets.\n",
    "fruits.add('kiwi')\n",
    "print(fruits)"
   ]
  },
  {
   "cell_type": "code",
   "execution_count": 52,
   "metadata": {},
   "outputs": [
    {
     "name": "stdout",
     "output_type": "stream",
     "text": [
      "{'coconut', 'kiwi', 'banana', 'apple', 'pear'}\n"
     ]
    }
   ],
   "source": [
    "#we can add two or multiple sets together\n",
    "set1 = {'apple','banana','kiwi'}\n",
    "set2 = {'pear','coconut'}\n",
    "set1.update(set2)\n",
    "print(set1)"
   ]
  },
  {
   "cell_type": "code",
   "execution_count": 53,
   "metadata": {},
   "outputs": [
    {
     "name": "stdout",
     "output_type": "stream",
     "text": [
      "{'coconut', 'kiwi', 'banana', 'apple', 'pear'}\n"
     ]
    }
   ],
   "source": [
    "# we can use union funtion in set to store the updated data into new sets\n",
    "set1 = {'apple','banana','kiwi'}\n",
    "set2 = {'pear','coconut'}\n",
    "set3 = set1.union(set2)\n",
    "print(set3)"
   ]
  },
  {
   "cell_type": "code",
   "execution_count": 54,
   "metadata": {},
   "outputs": [
    {
     "name": "stdout",
     "output_type": "stream",
     "text": [
      "Before remove : {'apple', 'kiwi', 'banana', 'cherry'}\n",
      "After remove : {'apple', 'kiwi', 'cherry'}\n"
     ]
    }
   ],
   "source": [
    "#we can remove the item from sets\n",
    "print(f\"Before remove : {fruits}\")\n",
    "fruits.remove('banana')\n",
    "print(f\"After remove : {fruits}\")"
   ]
  },
  {
   "cell_type": "code",
   "execution_count": 55,
   "metadata": {},
   "outputs": [
    {
     "name": "stdout",
     "output_type": "stream",
     "text": [
      "Before remove : {'apple', 'kiwi', 'cherry'}\n",
      "After remove : {'apple', 'cherry'}\n"
     ]
    }
   ],
   "source": [
    "#we can discard the item from sets\n",
    "print(f\"Before remove : {fruits}\")\n",
    "fruits.discard('kiwi')\n",
    "print(f\"After remove : {fruits}\")"
   ]
  },
  {
   "cell_type": "code",
   "execution_count": 56,
   "metadata": {},
   "outputs": [
    {
     "name": "stdout",
     "output_type": "stream",
     "text": [
      "{'kiwi', 'banana', 'apple', 'pear'}\n"
     ]
    }
   ],
   "source": [
    "#we can use pop to remove the item from the last\n",
    "fruits = {'apple','banana','kiwi','pear','coconut'}\n",
    "fruits.pop()\n",
    "print(fruits)"
   ]
  },
  {
   "cell_type": "code",
   "execution_count": 57,
   "metadata": {},
   "outputs": [
    {
     "name": "stdout",
     "output_type": "stream",
     "text": [
      "set()\n"
     ]
    }
   ],
   "source": [
    "# we can clear the sets also\n",
    "fruits.clear()\n",
    "print(fruits)"
   ]
  },
  {
   "cell_type": "code",
   "execution_count": 58,
   "metadata": {},
   "outputs": [
    {
     "name": "stdout",
     "output_type": "stream",
     "text": [
      "{'apple'}\n"
     ]
    }
   ],
   "source": [
    "# we can use intersection() method that will keep only the items that are common in both sets and store that new set. But it dont change anything into original sets\n",
    "set1 = {'apple','banana','kiwi'}\n",
    "set2 = {'pear','coconut','apple'}\n",
    "set3 = set1.intersection(set2)\n",
    "print(set3)"
   ]
  },
  {
   "cell_type": "code",
   "execution_count": 59,
   "metadata": {},
   "outputs": [
    {
     "name": "stdout",
     "output_type": "stream",
     "text": [
      "{'apple'}\n"
     ]
    }
   ],
   "source": [
    "# we can use intersection_update() method that will keep only the items that are common in both sets. But it will make changes into original sets\n",
    "set1 = {'apple','banana','kiwi'}\n",
    "set2 = {'pear','coconut','apple'}\n",
    "set1.intersection_update(set2)\n",
    "print(set1)"
   ]
  },
  {
   "cell_type": "code",
   "execution_count": 62,
   "metadata": {},
   "outputs": [
    {
     "name": "stdout",
     "output_type": "stream",
     "text": [
      "{'kiwi', 'banana'}\n"
     ]
    }
   ],
   "source": [
    "# there is a oposit method of intersection_update() that is difference(). It will keep only the items that are not common in both sets.\n",
    "# But it wont make any changes in original sets. Because it store that data into new set.\n",
    "set1 = {'apple','banana','kiwi'}\n",
    "set2 = {'pear','coconut','apple'}\n",
    "set3 = set1.difference(set2)\n",
    "print(set3)"
   ]
  },
  {
   "cell_type": "code",
   "execution_count": 63,
   "metadata": {},
   "outputs": [
    {
     "name": "stdout",
     "output_type": "stream",
     "text": [
      "{'kiwi', 'banana'}\n"
     ]
    }
   ],
   "source": [
    "# there is a oposit method of intersection_update() that is difference_update() it will store only that item which are not common in sets. But it make any changes in original sets.\n",
    "set1 = {'apple','banana','kiwi'}\n",
    "set2 = {'pear','coconut','apple'}\n",
    "set1.difference_update(set2)\n",
    "print(set1)"
   ]
  }
 ],
 "metadata": {
  "kernelspec": {
   "display_name": "Python 3.10.8 64-bit",
   "language": "python",
   "name": "python3"
  },
  "language_info": {
   "codemirror_mode": {
    "name": "ipython",
    "version": 3
   },
   "file_extension": ".py",
   "mimetype": "text/x-python",
   "name": "python",
   "nbconvert_exporter": "python",
   "pygments_lexer": "ipython3",
   "version": "3.11.3"
  },
  "orig_nbformat": 4,
  "vscode": {
   "interpreter": {
    "hash": "26de051ba29f2982a8de78e945f0abaf191376122a1563185a90213a26c5da77"
   }
  }
 },
 "nbformat": 4,
 "nbformat_minor": 2
}
